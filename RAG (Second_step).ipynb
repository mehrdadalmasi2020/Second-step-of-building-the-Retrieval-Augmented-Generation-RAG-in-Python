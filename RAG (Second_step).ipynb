{
 "cells": [
  {
   "cell_type": "markdown",
   "id": "2508e9e8",
   "metadata": {},
   "source": [
    "# The second step of RAG"
   ]
  },
  {
   "cell_type": "code",
   "execution_count": 1,
   "id": "4b30b9fd",
   "metadata": {},
   "outputs": [
    {
     "name": "stdout",
     "output_type": "stream",
     "text": [
      "Requirement already satisfied: chromadb in ./anaconda3/lib/python3.11/site-packages (0.4.21)\n",
      "Requirement already satisfied: requests>=2.28 in ./anaconda3/lib/python3.11/site-packages (from chromadb) (2.31.0)\n",
      "Requirement already satisfied: pydantic>=1.9 in ./anaconda3/lib/python3.11/site-packages (from chromadb) (1.10.8)\n",
      "Requirement already satisfied: chroma-hnswlib==0.7.3 in ./anaconda3/lib/python3.11/site-packages (from chromadb) (0.7.3)\n",
      "Requirement already satisfied: fastapi>=0.95.2 in ./anaconda3/lib/python3.11/site-packages (from chromadb) (0.108.0)\n",
      "Requirement already satisfied: uvicorn[standard]>=0.18.3 in ./anaconda3/lib/python3.11/site-packages (from chromadb) (0.23.2)\n",
      "Requirement already satisfied: numpy>=1.22.5 in ./anaconda3/lib/python3.11/site-packages (from chromadb) (1.24.3)\n",
      "Requirement already satisfied: posthog>=2.4.0 in ./anaconda3/lib/python3.11/site-packages (from chromadb) (3.1.0)\n",
      "Requirement already satisfied: typing-extensions>=4.5.0 in ./anaconda3/lib/python3.11/site-packages (from chromadb) (4.9.0)\n",
      "Requirement already satisfied: pulsar-client>=3.1.0 in ./anaconda3/lib/python3.11/site-packages (from chromadb) (3.3.0)\n",
      "Requirement already satisfied: onnxruntime>=1.14.1 in ./anaconda3/lib/python3.11/site-packages (from chromadb) (1.16.3)\n",
      "Requirement already satisfied: opentelemetry-api>=1.2.0 in ./anaconda3/lib/python3.11/site-packages (from chromadb) (1.22.0)\n",
      "Requirement already satisfied: opentelemetry-exporter-otlp-proto-grpc>=1.2.0 in ./anaconda3/lib/python3.11/site-packages (from chromadb) (1.22.0)\n",
      "Requirement already satisfied: opentelemetry-instrumentation-fastapi>=0.41b0 in ./anaconda3/lib/python3.11/site-packages (from chromadb) (0.43b0)\n",
      "Requirement already satisfied: opentelemetry-sdk>=1.2.0 in ./anaconda3/lib/python3.11/site-packages (from chromadb) (1.22.0)\n",
      "Requirement already satisfied: tokenizers>=0.13.2 in ./anaconda3/lib/python3.11/site-packages (from chromadb) (0.15.0)\n",
      "Requirement already satisfied: pypika>=0.48.9 in ./anaconda3/lib/python3.11/site-packages (from chromadb) (0.48.9)\n",
      "Requirement already satisfied: tqdm>=4.65.0 in ./anaconda3/lib/python3.11/site-packages (from chromadb) (4.65.0)\n",
      "Requirement already satisfied: overrides>=7.3.1 in ./anaconda3/lib/python3.11/site-packages (from chromadb) (7.4.0)\n",
      "Requirement already satisfied: importlib-resources in ./anaconda3/lib/python3.11/site-packages (from chromadb) (6.1.1)\n",
      "Requirement already satisfied: grpcio>=1.58.0 in ./anaconda3/lib/python3.11/site-packages (from chromadb) (1.60.0)\n",
      "Requirement already satisfied: bcrypt>=4.0.1 in ./anaconda3/lib/python3.11/site-packages (from chromadb) (4.1.2)\n",
      "Requirement already satisfied: typer>=0.9.0 in ./anaconda3/lib/python3.11/site-packages (from chromadb) (0.9.0)\n",
      "Requirement already satisfied: kubernetes>=28.1.0 in ./anaconda3/lib/python3.11/site-packages (from chromadb) (28.1.0)\n",
      "Requirement already satisfied: tenacity>=8.2.3 in ./anaconda3/lib/python3.11/site-packages (from chromadb) (8.2.3)\n",
      "Requirement already satisfied: PyYAML>=6.0.0 in ./anaconda3/lib/python3.11/site-packages (from chromadb) (6.0)\n",
      "Requirement already satisfied: mmh3>=4.0.1 in ./anaconda3/lib/python3.11/site-packages (from chromadb) (4.0.1)\n",
      "Requirement already satisfied: starlette<0.33.0,>=0.29.0 in ./anaconda3/lib/python3.11/site-packages (from fastapi>=0.95.2->chromadb) (0.32.0.post1)\n",
      "Requirement already satisfied: certifi>=14.05.14 in ./anaconda3/lib/python3.11/site-packages (from kubernetes>=28.1.0->chromadb) (2023.7.22)\n",
      "Requirement already satisfied: six>=1.9.0 in ./anaconda3/lib/python3.11/site-packages (from kubernetes>=28.1.0->chromadb) (1.16.0)\n",
      "Requirement already satisfied: python-dateutil>=2.5.3 in ./anaconda3/lib/python3.11/site-packages (from kubernetes>=28.1.0->chromadb) (2.8.2)\n",
      "Requirement already satisfied: google-auth>=1.0.1 in ./anaconda3/lib/python3.11/site-packages (from kubernetes>=28.1.0->chromadb) (2.25.2)\n",
      "Requirement already satisfied: websocket-client!=0.40.0,!=0.41.*,!=0.42.*,>=0.32.0 in ./anaconda3/lib/python3.11/site-packages (from kubernetes>=28.1.0->chromadb) (0.58.0)\n",
      "Requirement already satisfied: requests-oauthlib in ./anaconda3/lib/python3.11/site-packages (from kubernetes>=28.1.0->chromadb) (1.3.1)\n",
      "Requirement already satisfied: oauthlib>=3.2.2 in ./anaconda3/lib/python3.11/site-packages (from kubernetes>=28.1.0->chromadb) (3.2.2)\n",
      "Requirement already satisfied: urllib3<2.0,>=1.24.2 in ./anaconda3/lib/python3.11/site-packages (from kubernetes>=28.1.0->chromadb) (1.26.16)\n",
      "Requirement already satisfied: coloredlogs in ./anaconda3/lib/python3.11/site-packages (from onnxruntime>=1.14.1->chromadb) (15.0.1)\n",
      "Requirement already satisfied: flatbuffers in ./anaconda3/lib/python3.11/site-packages (from onnxruntime>=1.14.1->chromadb) (23.5.26)\n",
      "Requirement already satisfied: packaging in ./anaconda3/lib/python3.11/site-packages (from onnxruntime>=1.14.1->chromadb) (23.2)\n",
      "Requirement already satisfied: protobuf in ./anaconda3/lib/python3.11/site-packages (from onnxruntime>=1.14.1->chromadb) (3.20.3)\n",
      "Requirement already satisfied: sympy in ./anaconda3/lib/python3.11/site-packages (from onnxruntime>=1.14.1->chromadb) (1.11.1)\n",
      "Requirement already satisfied: deprecated>=1.2.6 in ./anaconda3/lib/python3.11/site-packages (from opentelemetry-api>=1.2.0->chromadb) (1.2.14)\n",
      "Requirement already satisfied: importlib-metadata<7.0,>=6.0 in ./anaconda3/lib/python3.11/site-packages (from opentelemetry-api>=1.2.0->chromadb) (6.0.0)\n",
      "Requirement already satisfied: backoff<3.0.0,>=1.10.0 in ./anaconda3/lib/python3.11/site-packages (from opentelemetry-exporter-otlp-proto-grpc>=1.2.0->chromadb) (2.2.1)\n",
      "Requirement already satisfied: googleapis-common-protos~=1.52 in ./anaconda3/lib/python3.11/site-packages (from opentelemetry-exporter-otlp-proto-grpc>=1.2.0->chromadb) (1.62.0)\n",
      "Requirement already satisfied: opentelemetry-exporter-otlp-proto-common==1.22.0 in ./anaconda3/lib/python3.11/site-packages (from opentelemetry-exporter-otlp-proto-grpc>=1.2.0->chromadb) (1.22.0)\n",
      "Requirement already satisfied: opentelemetry-proto==1.22.0 in ./anaconda3/lib/python3.11/site-packages (from opentelemetry-exporter-otlp-proto-grpc>=1.2.0->chromadb) (1.22.0)\n",
      "Requirement already satisfied: opentelemetry-instrumentation-asgi==0.43b0 in ./anaconda3/lib/python3.11/site-packages (from opentelemetry-instrumentation-fastapi>=0.41b0->chromadb) (0.43b0)\n",
      "Requirement already satisfied: opentelemetry-instrumentation==0.43b0 in ./anaconda3/lib/python3.11/site-packages (from opentelemetry-instrumentation-fastapi>=0.41b0->chromadb) (0.43b0)\n",
      "Requirement already satisfied: opentelemetry-semantic-conventions==0.43b0 in ./anaconda3/lib/python3.11/site-packages (from opentelemetry-instrumentation-fastapi>=0.41b0->chromadb) (0.43b0)\n",
      "Requirement already satisfied: opentelemetry-util-http==0.43b0 in ./anaconda3/lib/python3.11/site-packages (from opentelemetry-instrumentation-fastapi>=0.41b0->chromadb) (0.43b0)\n",
      "Requirement already satisfied: setuptools>=16.0 in ./anaconda3/lib/python3.11/site-packages (from opentelemetry-instrumentation==0.43b0->opentelemetry-instrumentation-fastapi>=0.41b0->chromadb) (68.0.0)\n",
      "Requirement already satisfied: wrapt<2.0.0,>=1.0.0 in ./anaconda3/lib/python3.11/site-packages (from opentelemetry-instrumentation==0.43b0->opentelemetry-instrumentation-fastapi>=0.41b0->chromadb) (1.14.1)\n",
      "Requirement already satisfied: asgiref~=3.0 in ./anaconda3/lib/python3.11/site-packages (from opentelemetry-instrumentation-asgi==0.43b0->opentelemetry-instrumentation-fastapi>=0.41b0->chromadb) (3.7.2)\n",
      "Requirement already satisfied: monotonic>=1.5 in ./anaconda3/lib/python3.11/site-packages (from posthog>=2.4.0->chromadb) (1.6)\n",
      "Requirement already satisfied: charset-normalizer<4,>=2 in ./anaconda3/lib/python3.11/site-packages (from requests>=2.28->chromadb) (2.0.4)\n",
      "Requirement already satisfied: idna<4,>=2.5 in ./anaconda3/lib/python3.11/site-packages (from requests>=2.28->chromadb) (3.4)\n",
      "Requirement already satisfied: huggingface_hub<1.0,>=0.16.4 in ./anaconda3/lib/python3.11/site-packages (from tokenizers>=0.13.2->chromadb) (0.20.1)\n",
      "Requirement already satisfied: click<9.0.0,>=7.1.1 in ./anaconda3/lib/python3.11/site-packages (from typer>=0.9.0->chromadb) (8.0.4)\n",
      "Requirement already satisfied: h11>=0.8 in ./anaconda3/lib/python3.11/site-packages (from uvicorn[standard]>=0.18.3->chromadb) (0.14.0)\n",
      "Requirement already satisfied: httptools>=0.5.0 in ./anaconda3/lib/python3.11/site-packages (from uvicorn[standard]>=0.18.3->chromadb) (0.6.1)\n",
      "Requirement already satisfied: python-dotenv>=0.13 in ./anaconda3/lib/python3.11/site-packages (from uvicorn[standard]>=0.18.3->chromadb) (0.21.0)\n",
      "Requirement already satisfied: uvloop!=0.15.0,!=0.15.1,>=0.14.0 in ./anaconda3/lib/python3.11/site-packages (from uvicorn[standard]>=0.18.3->chromadb) (0.19.0)\n",
      "Requirement already satisfied: watchfiles>=0.13 in ./anaconda3/lib/python3.11/site-packages (from uvicorn[standard]>=0.18.3->chromadb) (0.21.0)\n",
      "Requirement already satisfied: websockets>=10.4 in ./anaconda3/lib/python3.11/site-packages (from uvicorn[standard]>=0.18.3->chromadb) (12.0)\n",
      "Requirement already satisfied: cachetools<6.0,>=2.0.0 in ./anaconda3/lib/python3.11/site-packages (from google-auth>=1.0.1->kubernetes>=28.1.0->chromadb) (5.3.2)\n",
      "Requirement already satisfied: pyasn1-modules>=0.2.1 in ./anaconda3/lib/python3.11/site-packages (from google-auth>=1.0.1->kubernetes>=28.1.0->chromadb) (0.2.8)\n",
      "Requirement already satisfied: rsa<5,>=3.1.4 in ./anaconda3/lib/python3.11/site-packages (from google-auth>=1.0.1->kubernetes>=28.1.0->chromadb) (4.9)\n",
      "Requirement already satisfied: filelock in ./anaconda3/lib/python3.11/site-packages (from huggingface_hub<1.0,>=0.16.4->tokenizers>=0.13.2->chromadb) (3.9.0)\n",
      "Requirement already satisfied: fsspec>=2023.5.0 in ./anaconda3/lib/python3.11/site-packages (from huggingface_hub<1.0,>=0.16.4->tokenizers>=0.13.2->chromadb) (2023.12.2)\n",
      "Requirement already satisfied: zipp>=0.5 in ./anaconda3/lib/python3.11/site-packages (from importlib-metadata<7.0,>=6.0->opentelemetry-api>=1.2.0->chromadb) (3.11.0)\n",
      "Requirement already satisfied: anyio<5,>=3.4.0 in ./anaconda3/lib/python3.11/site-packages (from starlette<0.33.0,>=0.29.0->fastapi>=0.95.2->chromadb) (3.5.0)\n",
      "Requirement already satisfied: humanfriendly>=9.1 in ./anaconda3/lib/python3.11/site-packages (from coloredlogs->onnxruntime>=1.14.1->chromadb) (10.0)\n",
      "Requirement already satisfied: mpmath>=0.19 in ./anaconda3/lib/python3.11/site-packages (from sympy->onnxruntime>=1.14.1->chromadb) (1.3.0)\n",
      "Requirement already satisfied: sniffio>=1.1 in ./anaconda3/lib/python3.11/site-packages (from anyio<5,>=3.4.0->starlette<0.33.0,>=0.29.0->fastapi>=0.95.2->chromadb) (1.2.0)\n",
      "Requirement already satisfied: pyasn1<0.5.0,>=0.4.6 in ./anaconda3/lib/python3.11/site-packages (from pyasn1-modules>=0.2.1->google-auth>=1.0.1->kubernetes>=28.1.0->chromadb) (0.4.8)\n",
      "\u001b[33mDEPRECATION: omegaconf 2.0.6 has a non-standard dependency specifier PyYAML>=5.1.*. pip 23.3 will enforce this behaviour change. A possible replacement is to upgrade to a newer version of omegaconf or contact the author to suggest that they release a version with a conforming dependency specifiers. Discussion can be found at https://github.com/pypa/pip/issues/12063\u001b[0m\u001b[33m\n",
      "\u001b[0m"
     ]
    }
   ],
   "source": [
    "#install chromaDB\n",
    "!pip install chromadb"
   ]
  },
  {
   "cell_type": "code",
   "execution_count": 5,
   "id": "a0cd5a9f",
   "metadata": {},
   "outputs": [
    {
     "name": "stdout",
     "output_type": "stream",
     "text": [
      "Requirement already satisfied: sentence_transformers in ./anaconda3/lib/python3.11/site-packages (2.3.1)\n",
      "Requirement already satisfied: transformers<5.0.0,>=4.32.0 in ./anaconda3/lib/python3.11/site-packages (from sentence_transformers) (4.36.0.dev0)\n",
      "Requirement already satisfied: tqdm in ./anaconda3/lib/python3.11/site-packages (from sentence_transformers) (4.65.0)\n",
      "Requirement already satisfied: torch>=1.11.0 in ./anaconda3/lib/python3.11/site-packages (from sentence_transformers) (2.1.1)\n",
      "Requirement already satisfied: numpy in ./anaconda3/lib/python3.11/site-packages (from sentence_transformers) (1.24.3)\n",
      "Requirement already satisfied: scikit-learn in ./anaconda3/lib/python3.11/site-packages (from sentence_transformers) (1.3.0)\n",
      "Requirement already satisfied: scipy in ./anaconda3/lib/python3.11/site-packages (from sentence_transformers) (1.11.1)\n",
      "Requirement already satisfied: nltk in ./anaconda3/lib/python3.11/site-packages (from sentence_transformers) (3.8.1)\n",
      "Requirement already satisfied: sentencepiece in ./anaconda3/lib/python3.11/site-packages (from sentence_transformers) (0.1.99)\n",
      "Requirement already satisfied: huggingface-hub>=0.15.1 in ./anaconda3/lib/python3.11/site-packages (from sentence_transformers) (0.19.4)\n",
      "Requirement already satisfied: Pillow in ./anaconda3/lib/python3.11/site-packages (from sentence_transformers) (9.4.0)\n",
      "Requirement already satisfied: filelock in ./anaconda3/lib/python3.11/site-packages (from huggingface-hub>=0.15.1->sentence_transformers) (3.9.0)\n",
      "Requirement already satisfied: fsspec>=2023.5.0 in ./anaconda3/lib/python3.11/site-packages (from huggingface-hub>=0.15.1->sentence_transformers) (2023.10.0)\n",
      "Requirement already satisfied: requests in ./anaconda3/lib/python3.11/site-packages (from huggingface-hub>=0.15.1->sentence_transformers) (2.31.0)\n",
      "Requirement already satisfied: pyyaml>=5.1 in ./anaconda3/lib/python3.11/site-packages (from huggingface-hub>=0.15.1->sentence_transformers) (6.0)\n",
      "Requirement already satisfied: typing-extensions>=3.7.4.3 in ./anaconda3/lib/python3.11/site-packages (from huggingface-hub>=0.15.1->sentence_transformers) (4.9.0)\n",
      "Requirement already satisfied: packaging>=20.9 in ./anaconda3/lib/python3.11/site-packages (from huggingface-hub>=0.15.1->sentence_transformers) (23.2)\n",
      "Requirement already satisfied: sympy in ./anaconda3/lib/python3.11/site-packages (from torch>=1.11.0->sentence_transformers) (1.11.1)\n",
      "Requirement already satisfied: networkx in ./anaconda3/lib/python3.11/site-packages (from torch>=1.11.0->sentence_transformers) (3.1)\n",
      "Requirement already satisfied: jinja2 in ./anaconda3/lib/python3.11/site-packages (from torch>=1.11.0->sentence_transformers) (3.1.2)\n",
      "Requirement already satisfied: nvidia-cuda-nvrtc-cu12==12.1.105 in ./anaconda3/lib/python3.11/site-packages (from torch>=1.11.0->sentence_transformers) (12.1.105)\n",
      "Requirement already satisfied: nvidia-cuda-runtime-cu12==12.1.105 in ./anaconda3/lib/python3.11/site-packages (from torch>=1.11.0->sentence_transformers) (12.1.105)\n",
      "Requirement already satisfied: nvidia-cuda-cupti-cu12==12.1.105 in ./anaconda3/lib/python3.11/site-packages (from torch>=1.11.0->sentence_transformers) (12.1.105)\n",
      "Requirement already satisfied: nvidia-cudnn-cu12==8.9.2.26 in ./anaconda3/lib/python3.11/site-packages (from torch>=1.11.0->sentence_transformers) (8.9.2.26)\n",
      "Requirement already satisfied: nvidia-cublas-cu12==12.1.3.1 in ./anaconda3/lib/python3.11/site-packages (from torch>=1.11.0->sentence_transformers) (12.1.3.1)\n",
      "Requirement already satisfied: nvidia-cufft-cu12==11.0.2.54 in ./anaconda3/lib/python3.11/site-packages (from torch>=1.11.0->sentence_transformers) (11.0.2.54)\n",
      "Requirement already satisfied: nvidia-curand-cu12==10.3.2.106 in ./anaconda3/lib/python3.11/site-packages (from torch>=1.11.0->sentence_transformers) (10.3.2.106)\n",
      "Requirement already satisfied: nvidia-cusolver-cu12==11.4.5.107 in ./anaconda3/lib/python3.11/site-packages (from torch>=1.11.0->sentence_transformers) (11.4.5.107)\n",
      "Requirement already satisfied: nvidia-cusparse-cu12==12.1.0.106 in ./anaconda3/lib/python3.11/site-packages (from torch>=1.11.0->sentence_transformers) (12.1.0.106)\n",
      "Requirement already satisfied: nvidia-nccl-cu12==2.18.1 in ./anaconda3/lib/python3.11/site-packages (from torch>=1.11.0->sentence_transformers) (2.18.1)\n",
      "Requirement already satisfied: nvidia-nvtx-cu12==12.1.105 in ./anaconda3/lib/python3.11/site-packages (from torch>=1.11.0->sentence_transformers) (12.1.105)\n",
      "Requirement already satisfied: triton==2.1.0 in ./anaconda3/lib/python3.11/site-packages (from torch>=1.11.0->sentence_transformers) (2.1.0)\n",
      "Requirement already satisfied: nvidia-nvjitlink-cu12 in ./anaconda3/lib/python3.11/site-packages (from nvidia-cusolver-cu12==11.4.5.107->torch>=1.11.0->sentence_transformers) (12.3.101)\n",
      "Requirement already satisfied: regex!=2019.12.17 in ./anaconda3/lib/python3.11/site-packages (from transformers<5.0.0,>=4.32.0->sentence_transformers) (2022.7.9)\n",
      "Requirement already satisfied: tokenizers<0.19,>=0.14 in ./anaconda3/lib/python3.11/site-packages (from transformers<5.0.0,>=4.32.0->sentence_transformers) (0.15.0)\n",
      "Requirement already satisfied: safetensors>=0.3.1 in ./anaconda3/lib/python3.11/site-packages (from transformers<5.0.0,>=4.32.0->sentence_transformers) (0.3.2)\n",
      "Requirement already satisfied: click in ./anaconda3/lib/python3.11/site-packages (from nltk->sentence_transformers) (8.0.4)\n",
      "Requirement already satisfied: joblib in ./anaconda3/lib/python3.11/site-packages (from nltk->sentence_transformers) (1.2.0)\n",
      "Requirement already satisfied: threadpoolctl>=2.0.0 in ./anaconda3/lib/python3.11/site-packages (from scikit-learn->sentence_transformers) (2.2.0)\n",
      "Requirement already satisfied: MarkupSafe>=2.0 in ./anaconda3/lib/python3.11/site-packages (from jinja2->torch>=1.11.0->sentence_transformers) (2.1.1)\n",
      "Requirement already satisfied: charset-normalizer<4,>=2 in ./anaconda3/lib/python3.11/site-packages (from requests->huggingface-hub>=0.15.1->sentence_transformers) (2.0.4)\n",
      "Requirement already satisfied: idna<4,>=2.5 in ./anaconda3/lib/python3.11/site-packages (from requests->huggingface-hub>=0.15.1->sentence_transformers) (3.4)\n",
      "Requirement already satisfied: urllib3<3,>=1.21.1 in ./anaconda3/lib/python3.11/site-packages (from requests->huggingface-hub>=0.15.1->sentence_transformers) (1.26.16)\n",
      "Requirement already satisfied: certifi>=2017.4.17 in ./anaconda3/lib/python3.11/site-packages (from requests->huggingface-hub>=0.15.1->sentence_transformers) (2023.7.22)\n",
      "Requirement already satisfied: mpmath>=0.19 in ./anaconda3/lib/python3.11/site-packages (from sympy->torch>=1.11.0->sentence_transformers) (1.3.0)\n"
     ]
    }
   ],
   "source": [
    "!pip install sentence_transformers"
   ]
  },
  {
   "cell_type": "code",
   "execution_count": 21,
   "id": "27350e89",
   "metadata": {},
   "outputs": [],
   "source": [
    "data=[\n",
    "1,\"Founded in 1913 in Italy, this luxury automobile manufacturer has become synonymous with speed, elegance, and innovation. Renowned for its iconic prancing horse logo, it has a rich racing heritage and produces some of the most sought-after sports cars and supercars in the world.\",\n",
    "2,\"Established in 1937 in Germany, this automobile giant is known for its engineering excellence, precision manufacturing, and cutting-edge technology. It offers a wide range of vehicles, from compact cars to luxury sedans and SUVs, and is recognized for its commitment to quality and performance.\",\n",
    "3,\"With origins dating back to 1933 in Japan, this automotive company has grown into one of the largest and most influential in the world. It is celebrated for its reliability, fuel efficiency, and commitment to sustainability, producing a diverse lineup of cars, trucks, and hybrids.\",\n",
    "4,\"This American automaker, founded in 1903, is a symbol of the nation's automotive industry. It has a storied history, from the introduction of the assembly line to iconic muscle cars and trucks. Today, it continues to innovate with electric and autonomous vehicles while honoring its heritage.\",\n",
    "5,\"Founded in 1910 in France, this automotive brand is known for its elegance, luxury, and avant-garde design. It has a long history of producing high-end vehicles that blend performance with style, making it a favorite among discerning customers worldwide.\",\n",
    "6,\"Originating in Sweden in 1927, this car manufacturer has built a reputation for safety, quality, and Scandinavian design. It is known for its commitment to innovation, including pioneering technologies such as turbocharging and autonomous driving features.\",\n",
    "7,\"Established in 1909 in the United Kingdom, this iconic brand is synonymous with luxury, refinement, and timeless design. It has a long and distinguished history, producing some of the most iconic and desirable automobiles ever made.\",\n",
    "8,\"This Japanese automaker, founded in 1937, has become one of the largest producers of vehicles in the world. It is known for its reliability, fuel efficiency, and advanced technology, offering a wide range of cars, trucks, and SUVs for consumers globally.\",\n",
    "9,\"Founded in 1916 in Bavaria, Germany, this manufacturer has earned a reputation for producing high-performance, luxury vehicles that deliver both comfort and exhilarating driving experiences. It combines traditional craftsmanship with cutting-edge technology to create iconic automobiles.\",\n",
    "10,\"Originating in Italy in 1963, this sports car manufacturer is famous for its sleek designs, powerful engines, and racing heritage. It has produced some of the most iconic and desirable sports cars in history, capturing the hearts of enthusiasts around the world.\",\n",
    "11,\"Established in 1967 in Japan, this automotive brand has become synonymous with reliability, value, and innovation. It offers a diverse lineup of vehicles, from compact cars to hybrids and electric models, catering to a wide range of customers.\",\n",
    "12,\"This luxury automobile manufacturer, founded in 1919 in Germany, is renowned for its engineering prowess, attention to detail, and uncompromising commitment to quality. It produces a range of luxury cars, including sedans, coupes, and SUVs, favored by discerning customers worldwide.\",\n",
    "13,\"Founded in 1952 in Italy, this manufacturer is celebrated for its stylish and sporty cars, as well as its success in motorsports. It has a reputation for pushing the boundaries of automotive design and performance, creating some of the most iconic vehicles in the industry.\",\n",
    "14,\"Originating in South Korea in 1967, this automotive brand has rapidly risen to prominence with its focus on quality, value, and innovation. It offers a diverse range of vehicles, including sedans, SUVs, and electric cars, catering to a global audience.\",\n",
    "15,\"This British luxury car manufacturer, established in 1904, is renowned for its handcrafted automobiles, exquisite design, and unparalleled performance. It has a long-standing reputation for luxury and refinement, making it a symbol of automotive excellence.\",\n",
    "16,\"Founded in 1926 in Sweden, this carmaker is known for its commitment to safety, environmental sustainability, and Scandinavian design. It has a strong reputation for producing reliable, practical cars with an emphasis on innovation and cutting-edge technology.\",\n",
    "17,\"This Japanese multinational corporation, founded in 1933, is one of the largest automakers in the world. It is known for its diverse lineup of vehicles, including cars, trucks, hybrids, and electric vehicles, as well as its commitment to quality, innovation, and sustainability.\",\n",
    "18,\"Originating in Italy in 1906, this manufacturer is renowned for its iconic sports cars, elegant grand tourers, and powerful engines. It has a long and storied history in motorsports, with numerous victories in prestigious races around the world.\",\n",
    "19,\"Established in 1911 in Detroit, Michigan, this American automaker is one of the oldest and most iconic in the industry. It has played a significant role in shaping the automotive landscape, from introducing the mass-produced automobile to pioneering new technologies.\",\n",
    "20,\"This Japanese automotive brand, founded in 1920, is known for its commitment to innovation, quality, and reliability. It offers a diverse lineup of vehicles, including compact cars, hybrids, and SUVs, catering to a global audience of customers.\",\n",
    "21,\"Founded in 1954 in Germany, this luxury automobile manufacturer is renowned for its precision engineering, cutting-edge technology, and high-performance vehicles. It has a strong motorsport heritage and produces some of the most desirable cars on the road.\",\n",
    "22,\"Originating in France in 1899, this automotive brand is known for its innovation, elegance, and distinctive design. It has a rich history of producing iconic vehicles, including luxury sedans, hatchbacks, and electric cars, with a focus on performance and style.\",\n",
    "23,\"Established in 1917 in Italy, this manufacturer is synonymous with luxury, performance, and Italian style. It has a long history of producing some of the most desirable and exotic cars in the world, blending performance with elegance and craftsmanship.\",\n",
    "24,\"This Japanese automaker, founded in 1933, is known for its commitment to quality, reliability, and advanced technology. It offers a diverse lineup of vehicles, including compact cars, hybrids, and SUVs, catering to a global customer base.\",\n",
    "25,\"Founded in 1957 in Maranello, Italy, this manufacturer is synonymous with passion, performance, and racing heritage. It has a storied history in motorsports, with numerous victories in Formula One, and produces some of the most iconic sports cars in the world.\",\n",
    "26,\"Originating in Munich, Germany, in 1916, this automotive brand is renowned for its luxury vehicles, high-performance engines, and technological innovation. It has a long history of producing iconic cars that combine driving pleasure with cutting-edge technology.\"\n",
    "]"
   ]
  },
  {
   "cell_type": "code",
   "execution_count": 22,
   "id": "f086a34c",
   "metadata": {},
   "outputs": [],
   "source": [
    "id_c=[]\n",
    "description=[]\n",
    "for e in range(0,len(data)):\n",
    "    if e%2==0:\n",
    "        id_c.append(data[e])\n",
    "    else:\n",
    "        description.append(data[e])\n",
    "       "
   ]
  },
  {
   "cell_type": "code",
   "execution_count": 23,
   "id": "61270578",
   "metadata": {},
   "outputs": [
    {
     "data": {
      "text/html": [
       "<div>\n",
       "<style scoped>\n",
       "    .dataframe tbody tr th:only-of-type {\n",
       "        vertical-align: middle;\n",
       "    }\n",
       "\n",
       "    .dataframe tbody tr th {\n",
       "        vertical-align: top;\n",
       "    }\n",
       "\n",
       "    .dataframe thead th {\n",
       "        text-align: right;\n",
       "    }\n",
       "</style>\n",
       "<table border=\"1\" class=\"dataframe\">\n",
       "  <thead>\n",
       "    <tr style=\"text-align: right;\">\n",
       "      <th></th>\n",
       "      <th>id</th>\n",
       "      <th>description</th>\n",
       "    </tr>\n",
       "  </thead>\n",
       "  <tbody>\n",
       "    <tr>\n",
       "      <th>0</th>\n",
       "      <td>1</td>\n",
       "      <td>Founded in 1913 in Italy, this luxury automobi...</td>\n",
       "    </tr>\n",
       "    <tr>\n",
       "      <th>1</th>\n",
       "      <td>2</td>\n",
       "      <td>Established in 1937 in Germany, this automobil...</td>\n",
       "    </tr>\n",
       "    <tr>\n",
       "      <th>2</th>\n",
       "      <td>3</td>\n",
       "      <td>With origins dating back to 1933 in Japan, thi...</td>\n",
       "    </tr>\n",
       "    <tr>\n",
       "      <th>3</th>\n",
       "      <td>4</td>\n",
       "      <td>This American automaker, founded in 1903, is a...</td>\n",
       "    </tr>\n",
       "    <tr>\n",
       "      <th>4</th>\n",
       "      <td>5</td>\n",
       "      <td>Founded in 1910 in France, this automotive bra...</td>\n",
       "    </tr>\n",
       "    <tr>\n",
       "      <th>5</th>\n",
       "      <td>6</td>\n",
       "      <td>Originating in Sweden in 1927, this car manufa...</td>\n",
       "    </tr>\n",
       "    <tr>\n",
       "      <th>6</th>\n",
       "      <td>7</td>\n",
       "      <td>Established in 1909 in the United Kingdom, thi...</td>\n",
       "    </tr>\n",
       "    <tr>\n",
       "      <th>7</th>\n",
       "      <td>8</td>\n",
       "      <td>This Japanese automaker, founded in 1937, has ...</td>\n",
       "    </tr>\n",
       "    <tr>\n",
       "      <th>8</th>\n",
       "      <td>9</td>\n",
       "      <td>Founded in 1916 in Bavaria, Germany, this manu...</td>\n",
       "    </tr>\n",
       "    <tr>\n",
       "      <th>9</th>\n",
       "      <td>10</td>\n",
       "      <td>Originating in Italy in 1963, this sports car ...</td>\n",
       "    </tr>\n",
       "    <tr>\n",
       "      <th>10</th>\n",
       "      <td>11</td>\n",
       "      <td>Established in 1967 in Japan, this automotive ...</td>\n",
       "    </tr>\n",
       "    <tr>\n",
       "      <th>11</th>\n",
       "      <td>12</td>\n",
       "      <td>This luxury automobile manufacturer, founded i...</td>\n",
       "    </tr>\n",
       "    <tr>\n",
       "      <th>12</th>\n",
       "      <td>13</td>\n",
       "      <td>Founded in 1952 in Italy, this manufacturer is...</td>\n",
       "    </tr>\n",
       "    <tr>\n",
       "      <th>13</th>\n",
       "      <td>14</td>\n",
       "      <td>Originating in South Korea in 1967, this autom...</td>\n",
       "    </tr>\n",
       "    <tr>\n",
       "      <th>14</th>\n",
       "      <td>15</td>\n",
       "      <td>This British luxury car manufacturer, establis...</td>\n",
       "    </tr>\n",
       "    <tr>\n",
       "      <th>15</th>\n",
       "      <td>16</td>\n",
       "      <td>Founded in 1926 in Sweden, this carmaker is kn...</td>\n",
       "    </tr>\n",
       "    <tr>\n",
       "      <th>16</th>\n",
       "      <td>17</td>\n",
       "      <td>This Japanese multinational corporation, found...</td>\n",
       "    </tr>\n",
       "    <tr>\n",
       "      <th>17</th>\n",
       "      <td>18</td>\n",
       "      <td>Originating in Italy in 1906, this manufacture...</td>\n",
       "    </tr>\n",
       "    <tr>\n",
       "      <th>18</th>\n",
       "      <td>19</td>\n",
       "      <td>Established in 1911 in Detroit, Michigan, this...</td>\n",
       "    </tr>\n",
       "    <tr>\n",
       "      <th>19</th>\n",
       "      <td>20</td>\n",
       "      <td>This Japanese automotive brand, founded in 192...</td>\n",
       "    </tr>\n",
       "    <tr>\n",
       "      <th>20</th>\n",
       "      <td>21</td>\n",
       "      <td>Founded in 1954 in Germany, this luxury automo...</td>\n",
       "    </tr>\n",
       "    <tr>\n",
       "      <th>21</th>\n",
       "      <td>22</td>\n",
       "      <td>Originating in France in 1899, this automotive...</td>\n",
       "    </tr>\n",
       "    <tr>\n",
       "      <th>22</th>\n",
       "      <td>23</td>\n",
       "      <td>Established in 1917 in Italy, this manufacture...</td>\n",
       "    </tr>\n",
       "    <tr>\n",
       "      <th>23</th>\n",
       "      <td>24</td>\n",
       "      <td>This Japanese automaker, founded in 1933, is k...</td>\n",
       "    </tr>\n",
       "    <tr>\n",
       "      <th>24</th>\n",
       "      <td>25</td>\n",
       "      <td>Founded in 1957 in Maranello, Italy, this manu...</td>\n",
       "    </tr>\n",
       "    <tr>\n",
       "      <th>25</th>\n",
       "      <td>26</td>\n",
       "      <td>Originating in Munich, Germany, in 1916, this ...</td>\n",
       "    </tr>\n",
       "  </tbody>\n",
       "</table>\n",
       "</div>"
      ],
      "text/plain": [
       "    id                                        description\n",
       "0    1  Founded in 1913 in Italy, this luxury automobi...\n",
       "1    2  Established in 1937 in Germany, this automobil...\n",
       "2    3  With origins dating back to 1933 in Japan, thi...\n",
       "3    4  This American automaker, founded in 1903, is a...\n",
       "4    5  Founded in 1910 in France, this automotive bra...\n",
       "5    6  Originating in Sweden in 1927, this car manufa...\n",
       "6    7  Established in 1909 in the United Kingdom, thi...\n",
       "7    8  This Japanese automaker, founded in 1937, has ...\n",
       "8    9  Founded in 1916 in Bavaria, Germany, this manu...\n",
       "9   10  Originating in Italy in 1963, this sports car ...\n",
       "10  11  Established in 1967 in Japan, this automotive ...\n",
       "11  12  This luxury automobile manufacturer, founded i...\n",
       "12  13  Founded in 1952 in Italy, this manufacturer is...\n",
       "13  14  Originating in South Korea in 1967, this autom...\n",
       "14  15  This British luxury car manufacturer, establis...\n",
       "15  16  Founded in 1926 in Sweden, this carmaker is kn...\n",
       "16  17  This Japanese multinational corporation, found...\n",
       "17  18  Originating in Italy in 1906, this manufacture...\n",
       "18  19  Established in 1911 in Detroit, Michigan, this...\n",
       "19  20  This Japanese automotive brand, founded in 192...\n",
       "20  21  Founded in 1954 in Germany, this luxury automo...\n",
       "21  22  Originating in France in 1899, this automotive...\n",
       "22  23  Established in 1917 in Italy, this manufacture...\n",
       "23  24  This Japanese automaker, founded in 1933, is k...\n",
       "24  25  Founded in 1957 in Maranello, Italy, this manu...\n",
       "25  26  Originating in Munich, Germany, in 1916, this ..."
      ]
     },
     "execution_count": 23,
     "metadata": {},
     "output_type": "execute_result"
    }
   ],
   "source": [
    "#create a dataframe\n",
    "import pandas as pd\n",
    "df=pd.DataFrame()\n",
    "df[\"id\"]=id_c\n",
    "df[\"description\"]=description\n",
    "df"
   ]
  },
  {
   "cell_type": "code",
   "execution_count": 24,
   "id": "61d5d86e",
   "metadata": {},
   "outputs": [
    {
     "name": "stdout",
     "output_type": "stream",
     "text": [
      "model loaded\n"
     ]
    }
   ],
   "source": [
    "import chromadb\n",
    "from chromadb import Documents\n",
    "from chromadb.utils import embedding_functions\n",
    "\n",
    "\n",
    "# create a database\n",
    "client = chromadb.PersistentClient(path=\"/home/mehrdad/\")\n",
    "\n",
    "\n",
    "#load the transformer\n",
    "sentence_transformer_ef = embedding_functions.SentenceTransformerEmbeddingFunction(model_name=\"microsoft/Orca-2-7b\")\n",
    "print(\"model loaded\")\n",
    "\n",
    "# create a table\n",
    "collection = client.get_or_create_collection(name=\"test1\")\n"
   ]
  },
  {
   "cell_type": "code",
   "execution_count": 25,
   "id": "213b34df",
   "metadata": {},
   "outputs": [
    {
     "name": "stdout",
     "output_type": "stream",
     "text": [
      "ForEmbVector:  found itali luxuri automobil manufactur synonym speed eleg innov renown icon pranc hors logo rich race heritag produc sought sport car supercar world\n",
      "0  done \n",
      "ForEmbVector:  establish germani automobil giant known engin excel precis manufactur cut edg technolog offer wide rang vehicl compact car luxuri sedan suv recogn commit qualiti perform\n",
      "1  done \n",
      "ForEmbVector:  origin date japan automot compani grown largest influenti world celebr reliabl fuel effici commit sustain produc divers lineup car truck hybrid\n",
      "2  done \n",
      "ForEmbVector:  american automak found symbol nation automot industri stori histori introduct assembl line icon muscl car truck todai continu innov electr autonom vehicl honor heritag\n",
      "3  done \n",
      "ForEmbVector:  found franc automot brand known eleg luxuri avant gard design long histori produc high end vehicl blend perform style make favorit discern custom worldwid\n",
      "4  done \n",
      "ForEmbVector:  origin sweden car manufactur built reput safeti qualiti scandinavian design known commit innov includ pioneer technolog turbocharg autonom drive featur\n",
      "5  done \n",
      "ForEmbVector:  establish unit kingdom icon brand synonym luxuri refin timeless design long distinguish histori produc icon desir automobil\n",
      "6  done \n",
      "ForEmbVector:  japanes automak found largest produc vehicl world known reliabl fuel effici advanc technolog offer wide rang car truck suv consum global\n",
      "7  done \n",
      "ForEmbVector:  found bavaria germani manufactur earn reput produc high perform luxuri vehicl deliv comfort exhilar drive experi combin tradit craftsmanship cut edg technolog creat icon automobil\n",
      "8  done \n",
      "ForEmbVector:  origin itali sport car manufactur famou sleek design power engin race heritag produc icon desir sport car histori captur heart enthusiast world\n",
      "9  done \n",
      "ForEmbVector:  establish japan automot brand synonym reliabl valu innov offer divers lineup vehicl compact car hybrid electr model cater wide rang custom\n",
      "10  done \n",
      "ForEmbVector:  luxuri automobil manufactur found germani renown engin prowess attent uncompromis commit qualiti produc rang luxuri car includ sedan coup suv favor discern custom worldwid\n",
      "11  done \n",
      "ForEmbVector:  found itali manufactur celebr stylish sporti car success motorsport reput push boundari automot design perform creat icon vehicl industri\n",
      "12  done \n",
      "ForEmbVector:  origin south korea automot brand rapidli risen promin focu qualiti valu innov offer divers rang vehicl includ sedan suv electr car cater global audienc\n",
      "13  done \n",
      "ForEmbVector:  british luxuri car manufactur establish renown handcraft automobil exquisit design unparallel perform long stand reput luxuri refin make symbol automot excel\n",
      "14  done \n",
      "ForEmbVector:  found sweden carmak known commit safeti environment sustain scandinavian design strong reput produc reliabl practic car emphasi innov cut edg technolog\n",
      "15  done \n",
      "ForEmbVector:  japanes multin corpor found largest automak world known divers lineup vehicl includ car truck hybrid electr vehicl commit qualiti innov sustain\n",
      "16  done \n",
      "ForEmbVector:  origin itali manufactur renown icon sport car eleg grand tourer power engin long stori histori motorsport numer victori prestigi race world\n",
      "17  done \n",
      "ForEmbVector:  establish detroit michigan american automak oldest icon industri plai signific role shape automot landscap introduc mass produc automobil pioneer new technolog\n",
      "18  done \n",
      "ForEmbVector:  japanes automot brand found known commit innov qualiti reliabl offer divers lineup vehicl includ compact car hybrid suv cater global audienc custom\n",
      "19  done \n",
      "ForEmbVector:  found germani luxuri automobil manufactur renown precis engin cut edg technolog high perform vehicl strong motorsport heritag produc desir car road\n",
      "20  done \n",
      "ForEmbVector:  origin franc automot brand known innov eleg distinct design rich histori produc icon vehicl includ luxuri sedan hatchback electr car focu perform style\n",
      "21  done \n",
      "ForEmbVector:  establish itali manufactur synonym luxuri perform italian style long histori produc desir exot car world blend perform eleg craftsmanship\n",
      "22  done \n",
      "ForEmbVector:  japanes automak found known commit qualiti reliabl advanc technolog offer divers lineup vehicl includ compact car hybrid suv cater global custom base\n",
      "23  done \n",
      "ForEmbVector:  found maranello itali manufactur synonym passion perform race heritag stori histori motorsport numer victori formula produc icon sport car world\n",
      "24  done \n",
      "ForEmbVector:  origin munich germani automot brand renown luxuri vehicl high perform engin technolog innov long histori produc icon car combin drive pleasur cut edg technolog\n",
      "25  done \n",
      "++++++++++++++++++++++++++++++++++++++++++++++++++++++++++++++++++\n"
     ]
    }
   ],
   "source": [
    "outputTotal=[]\n",
    "descriptionTotal=[]\n",
    "metadatas=[]\n",
    "ids_t=[]\n",
    "\n",
    "from gensim.parsing.preprocessing import remove_stopwords\n",
    "from gensim.parsing.preprocessing import preprocess_documents\n",
    "\n",
    "for counter in range(0,df.shape[0]):\n",
    "   \n",
    "\n",
    "    ForEmbVector=preprocess_documents([df[\"description\"][counter]])[0]\n",
    "    text=\"\"\n",
    "    for each_w in ForEmbVector:\n",
    "        text=text+\" \"+each_w\n",
    "    text=text.rstrip().lstrip().strip()\n",
    "    print(\"ForEmbVector: \",text)\n",
    "\n",
    "    output=sentence_transformer_ef([text])\n",
    "    description=df[\"description\"][counter]\n",
    "    meta={str(df[\"id\"][counter]):str(len(df[\"description\"][counter]))}\n",
    "    id_c=df[\"id\"][counter]\n",
    "\n",
    "    \n",
    "    outputTotal.append(output)\n",
    "    descriptionTotal.append(description)\n",
    "    metadatas.append(meta)\n",
    "    ids_t.append(str(id_c))\n",
    "    \n",
    "    print(counter,\" done \")\n",
    "print(\"++++++++++++++++++++++++++++++++++++++++++++++++++++++++++++++++++\")"
   ]
  },
  {
   "cell_type": "code",
   "execution_count": 26,
   "id": "1030e043",
   "metadata": {},
   "outputs": [
    {
     "name": "stdout",
     "output_type": "stream",
     "text": [
      "Started\n",
      "Finished\n"
     ]
    }
   ],
   "source": [
    "print(\"Started\")\n",
    "for i in range(0,len(descriptionTotal)):\n",
    "    collection.upsert(\n",
    "        embeddings = outputTotal[i],\n",
    "        documents = descriptionTotal[i],\n",
    "        metadatas = [metadatas[i]],\n",
    "        ids = ids_t[i]\n",
    "    )\n",
    "print(\"Finished\")"
   ]
  },
  {
   "cell_type": "code",
   "execution_count": 27,
   "id": "948d25a8",
   "metadata": {},
   "outputs": [],
   "source": [
    "# Initialize Chromadb client\n",
    "sentence_transformer_ef = embedding_functions.SentenceTransformerEmbeddingFunction(model_name=\"microsoft/Orca-2-7b\")\n",
    "client = chromadb.PersistentClient(path=\"/home/mehrdad/\")\n",
    "collection = client.get_or_create_collection(\n",
    "    name=\"test1\", embedding_function=sentence_transformer_ef\n",
    ")"
   ]
  },
  {
   "cell_type": "code",
   "execution_count": 49,
   "id": "976dbca2",
   "metadata": {},
   "outputs": [],
   "source": [
    "# Perform the Chromadb query.\n",
    "\n",
    "question=\"tell me about scandinavian car design\"\n",
    "Query=preprocess_documents([\"tell me about scandinavian car design?\"])[0]\n",
    "Q=\"\"\n",
    "for each_w in Q:\n",
    "    Q=Q+\" \"+each_w\n",
    "Q=Q.rstrip().lstrip().strip()\n",
    "\n",
    "results = collection.query(\n",
    "    query_texts=[Q],\n",
    "    n_results=1,\n",
    ")"
   ]
  },
  {
   "cell_type": "code",
   "execution_count": 50,
   "id": "a13d6671",
   "metadata": {},
   "outputs": [
    {
     "data": {
      "text/plain": [
       "[['Originating in Sweden in 1927, this car manufacturer has built a reputation for safety, quality, and Scandinavian design. It is known for its commitment to innovation, including pioneering technologies such as turbocharging and autonomous driving features.']]"
      ]
     },
     "execution_count": 50,
     "metadata": {},
     "output_type": "execute_result"
    }
   ],
   "source": [
    "results[\"documents\"]"
   ]
  },
  {
   "cell_type": "markdown",
   "id": "d62e5013",
   "metadata": {},
   "source": [
    "#  The second step of RAG"
   ]
  },
  {
   "cell_type": "code",
   "execution_count": 51,
   "id": "fb53d055",
   "metadata": {},
   "outputs": [
    {
     "name": "stdout",
     "output_type": "stream",
     "text": [
      "1\n"
     ]
    }
   ],
   "source": [
    "doc=\"\"\n",
    "print(len(results[\"documents\"][0]))\n",
    "for e in results[\"documents\"]:\n",
    "    for con in e:\n",
    "        doc=doc+con.rstrip().lstrip().strip()+\" \\n \\n \""
   ]
  },
  {
   "cell_type": "code",
   "execution_count": 52,
   "id": "d20ead66",
   "metadata": {},
   "outputs": [
    {
     "data": {
      "text/plain": [
       "'Originating in Sweden in 1927, this car manufacturer has built a reputation for safety, quality, and Scandinavian design. It is known for its commitment to innovation, including pioneering technologies such as turbocharging and autonomous driving features. \\n \\n '"
      ]
     },
     "execution_count": 52,
     "metadata": {},
     "output_type": "execute_result"
    }
   ],
   "source": [
    "doc"
   ]
  },
  {
   "cell_type": "code",
   "execution_count": 60,
   "id": "aec3e38c",
   "metadata": {},
   "outputs": [
    {
     "data": {
      "application/vnd.jupyter.widget-view+json": {
       "model_id": "c40ddeb1ad744413a195268685aef9c1",
       "version_major": 2,
       "version_minor": 0
      },
      "text/plain": [
       "Fetching 1 files:   0%|          | 0/1 [00:00<?, ?it/s]"
      ]
     },
     "metadata": {},
     "output_type": "display_data"
    },
    {
     "data": {
      "application/vnd.jupyter.widget-view+json": {
       "model_id": "9daa33aacb854983941ac1287b7f597c",
       "version_major": 2,
       "version_minor": 0
      },
      "text/plain": [
       "Fetching 1 files:   0%|          | 0/1 [00:00<?, ?it/s]"
      ]
     },
     "metadata": {},
     "output_type": "display_data"
    },
    {
     "name": "stdout",
     "output_type": "stream",
     "text": [
      "question:  tell me about scandinavian car design\n",
      "context Originating in Sweden in 1927, this car manufacturer has built a reputation for safety, quality, and Scandinavian design. It is known for its commitment to innovation, including pioneering technologies such as turbocharging and autonomous driving features. \n",
      " \n",
      " \n",
      "✅\n",
      "=====================================================================\n",
      "Scandinavian car design refers to the unique aesthetic and functional elements that are commonly found in cars produced by manufacturers originating from Sweden, Norway, and Denmark. This style is characterized by clean lines, minimalism, and a focus on functionality, with an emphasis on simplicity and elegance. Scandinavian car design often incorporates natural materials such as wood and leather, as well as neutral color palettes and subtle, understated details. Many Scandinavian car models also prioritize safety and comfort, with features such as advanced driver assistance systems and comfortable seating arrangements. Overall, Scandinavian car design reflects a commitment to quality, innovation, and a sense of understated sophistication.\n"
     ]
    }
   ],
   "source": [
    "import os\n",
    "from langchain.llms import CTransformers\n",
    "from langchain.prompts import PromptTemplate\n",
    "from langchain.chains import MapReduceDocumentsChain, LLMChain, ReduceDocumentsChain, StuffDocumentsChain\n",
    "import gc\n",
    "import torch \n",
    "config = {'max_new_tokens': 200, 'temperature': 0.05, 'context_length': 1000}\n",
    "\n",
    "llm = CTransformers(model='TheBloke/Mistral-7B-Instruct-v0.1-GGUF',model_file=\"mistral-7b-instruct-v0.1.Q4_K_M.gguf\", config=config,threads=os.cpu_count(),gpu_layers=1)\n",
    "\n",
    "template = \"\"\"<s>[INST] You are a helpful, respectful and honest assistant.\n",
    "You must summarize the {context} to answer the {question}. You must remove the irrelevant inforamtion to {question} from {context}:  \n",
    "{context}\n",
    "{question} [/INST] </s>\n",
    "\"\"\"\n",
    "\n",
    "#### Prompt\n",
    "question_p = question\n",
    "print(\"question: \",question_p)\n",
    "context_p = doc \n",
    "print(\"context\",context_p)\n",
    "prompt = PromptTemplate(template=template, input_variables=[\"question\",\"context\"])\n",
    "llm_chain = LLMChain(prompt=prompt, llm=llm)\n",
    "response = llm_chain.run({\"question\":question_p,\"context\":context_p})\n",
    "\n",
    "#    FinalAnswer=FinalAnswer+response+\" \\n ***************** \\n\"\n",
    "print(\"✅\")\n",
    "\n",
    "print(\"=====================================================================\")\n",
    "print(response)\n",
    "del llm_chain\n",
    "del response\n",
    "del llm\n",
    "gc.collect()\n",
    "torch.cuda.empty_cache()  \n"
   ]
  }
 ],
 "metadata": {
  "kernelspec": {
   "display_name": "Python 3",
   "language": "python",
   "name": "python3"
  },
  "language_info": {
   "codemirror_mode": {
    "name": "ipython",
    "version": 3
   },
   "file_extension": ".py",
   "mimetype": "text/x-python",
   "name": "python",
   "nbconvert_exporter": "python",
   "pygments_lexer": "ipython3",
   "version": "3.8.3"
  }
 },
 "nbformat": 4,
 "nbformat_minor": 5
}
